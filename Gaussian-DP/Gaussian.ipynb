{
 "cells": [
  {
   "cell_type": "code",
   "execution_count": 1,
   "id": "ce3d037f",
   "metadata": {},
   "outputs": [],
   "source": [
    "import pandas as pd\n",
    "import numpy as np\n",
    "from scipy.stats import norm\n",
    "import matplotlib.pyplot as plt"
   ]
  },
  {
   "cell_type": "code",
   "execution_count": 2,
   "id": "8f146e08",
   "metadata": {},
   "outputs": [
    {
     "data": {
      "text/html": [
       "<div>\n",
       "<style scoped>\n",
       "    .dataframe tbody tr th:only-of-type {\n",
       "        vertical-align: middle;\n",
       "    }\n",
       "\n",
       "    .dataframe tbody tr th {\n",
       "        vertical-align: top;\n",
       "    }\n",
       "\n",
       "    .dataframe thead th {\n",
       "        text-align: right;\n",
       "    }\n",
       "</style>\n",
       "<table border=\"1\" class=\"dataframe\">\n",
       "  <thead>\n",
       "    <tr style=\"text-align: right;\">\n",
       "      <th></th>\n",
       "      <th>Age</th>\n",
       "      <th>Workclass</th>\n",
       "      <th>fnlwgt</th>\n",
       "      <th>Education</th>\n",
       "      <th>Education-Num</th>\n",
       "      <th>Martial Status</th>\n",
       "      <th>Occupation</th>\n",
       "      <th>Relationship</th>\n",
       "      <th>Race</th>\n",
       "      <th>Sex</th>\n",
       "      <th>Capital Gain</th>\n",
       "      <th>Capital Loss</th>\n",
       "      <th>Hours per week</th>\n",
       "      <th>Country</th>\n",
       "      <th>Target</th>\n",
       "    </tr>\n",
       "  </thead>\n",
       "  <tbody>\n",
       "    <tr>\n",
       "      <th>32556</th>\n",
       "      <td>27</td>\n",
       "      <td>Private</td>\n",
       "      <td>257302</td>\n",
       "      <td>Assoc-acdm</td>\n",
       "      <td>12</td>\n",
       "      <td>Married-civ-spouse</td>\n",
       "      <td>Tech-support</td>\n",
       "      <td>Wife</td>\n",
       "      <td>White</td>\n",
       "      <td>Female</td>\n",
       "      <td>0</td>\n",
       "      <td>0</td>\n",
       "      <td>38</td>\n",
       "      <td>United-States</td>\n",
       "      <td>&lt;=50K</td>\n",
       "    </tr>\n",
       "    <tr>\n",
       "      <th>32557</th>\n",
       "      <td>40</td>\n",
       "      <td>Private</td>\n",
       "      <td>154374</td>\n",
       "      <td>HS-grad</td>\n",
       "      <td>9</td>\n",
       "      <td>Married-civ-spouse</td>\n",
       "      <td>Machine-op-inspct</td>\n",
       "      <td>Husband</td>\n",
       "      <td>White</td>\n",
       "      <td>Male</td>\n",
       "      <td>0</td>\n",
       "      <td>0</td>\n",
       "      <td>40</td>\n",
       "      <td>United-States</td>\n",
       "      <td>&gt;50K</td>\n",
       "    </tr>\n",
       "    <tr>\n",
       "      <th>32558</th>\n",
       "      <td>58</td>\n",
       "      <td>Private</td>\n",
       "      <td>151910</td>\n",
       "      <td>HS-grad</td>\n",
       "      <td>9</td>\n",
       "      <td>Widowed</td>\n",
       "      <td>Adm-clerical</td>\n",
       "      <td>Unmarried</td>\n",
       "      <td>White</td>\n",
       "      <td>Female</td>\n",
       "      <td>0</td>\n",
       "      <td>0</td>\n",
       "      <td>40</td>\n",
       "      <td>United-States</td>\n",
       "      <td>&lt;=50K</td>\n",
       "    </tr>\n",
       "    <tr>\n",
       "      <th>32559</th>\n",
       "      <td>22</td>\n",
       "      <td>Private</td>\n",
       "      <td>201490</td>\n",
       "      <td>HS-grad</td>\n",
       "      <td>9</td>\n",
       "      <td>Never-married</td>\n",
       "      <td>Adm-clerical</td>\n",
       "      <td>Own-child</td>\n",
       "      <td>White</td>\n",
       "      <td>Male</td>\n",
       "      <td>0</td>\n",
       "      <td>0</td>\n",
       "      <td>20</td>\n",
       "      <td>United-States</td>\n",
       "      <td>&lt;=50K</td>\n",
       "    </tr>\n",
       "    <tr>\n",
       "      <th>32560</th>\n",
       "      <td>52</td>\n",
       "      <td>Self-emp-inc</td>\n",
       "      <td>287927</td>\n",
       "      <td>HS-grad</td>\n",
       "      <td>9</td>\n",
       "      <td>Married-civ-spouse</td>\n",
       "      <td>Exec-managerial</td>\n",
       "      <td>Wife</td>\n",
       "      <td>White</td>\n",
       "      <td>Female</td>\n",
       "      <td>15024</td>\n",
       "      <td>0</td>\n",
       "      <td>40</td>\n",
       "      <td>United-States</td>\n",
       "      <td>&gt;50K</td>\n",
       "    </tr>\n",
       "  </tbody>\n",
       "</table>\n",
       "</div>"
      ],
      "text/plain": [
       "       Age     Workclass  fnlwgt   Education  Education-Num  \\\n",
       "32556   27       Private  257302  Assoc-acdm             12   \n",
       "32557   40       Private  154374     HS-grad              9   \n",
       "32558   58       Private  151910     HS-grad              9   \n",
       "32559   22       Private  201490     HS-grad              9   \n",
       "32560   52  Self-emp-inc  287927     HS-grad              9   \n",
       "\n",
       "           Martial Status         Occupation Relationship   Race     Sex  \\\n",
       "32556  Married-civ-spouse       Tech-support         Wife  White  Female   \n",
       "32557  Married-civ-spouse  Machine-op-inspct      Husband  White    Male   \n",
       "32558             Widowed       Adm-clerical    Unmarried  White  Female   \n",
       "32559       Never-married       Adm-clerical    Own-child  White    Male   \n",
       "32560  Married-civ-spouse    Exec-managerial         Wife  White  Female   \n",
       "\n",
       "       Capital Gain  Capital Loss  Hours per week        Country Target  \n",
       "32556             0             0              38  United-States  <=50K  \n",
       "32557             0             0              40  United-States   >50K  \n",
       "32558             0             0              40  United-States  <=50K  \n",
       "32559             0             0              20  United-States  <=50K  \n",
       "32560         15024             0              40  United-States   >50K  "
      ]
     },
     "execution_count": 2,
     "metadata": {},
     "output_type": "execute_result"
    }
   ],
   "source": [
    "# Load Adult dataset\n",
    "dataset = pd.read_csv(\"../dataset/adult.data.txt\",\n",
    "    names=[\"Age\", \"Workclass\", \"fnlwgt\", \"Education\", \"Education-Num\", \"Martial Status\",\n",
    "        \"Occupation\", \"Relationship\", \"Race\", \"Sex\", \"Capital Gain\", \"Capital Loss\",\n",
    "        \"Hours per week\", \"Country\", \"Target\"],sep=r'\\s*,\\s*',na_values=\"?\", engine='python')\n",
    "dataset.tail()"
   ]
  },
  {
   "cell_type": "code",
   "execution_count": 3,
   "id": "0cd9b1f7",
   "metadata": {},
   "outputs": [
    {
     "name": "stdout",
     "output_type": "stream",
     "text": [
      "datacount:\n",
      " 36    898\n",
      "31    888\n",
      "34    886\n",
      "23    877\n",
      "35    876\n",
      "     ... \n",
      "83      6\n",
      "85      3\n",
      "88      3\n",
      "86      1\n",
      "87      1\n",
      "Name: Age, Length: 73, dtype: int64\n"
     ]
    }
   ],
   "source": [
    "#Find actual data count\n",
    "datacount = dataset[\"Age\"].value_counts()\n",
    "print(\"datacount:\\n\", datacount)"
   ]
  },
  {
   "cell_type": "code",
   "execution_count": 4,
   "id": "35e72829",
   "metadata": {},
   "outputs": [],
   "source": [
    "# Set parameters for Gaussian function implementation\n",
    "# l2 sensitivity = 1\n",
    "# epsilon = 0.125\n",
    "# delta = 0.00001\n",
    "location = 0.0\n",
    "scale = np.sqrt(2.0*np.log(1.25/0.00001))*(1.0/0.125)"
   ]
  },
  {
   "cell_type": "code",
   "execution_count": 5,
   "id": "520963ef",
   "metadata": {},
   "outputs": [
    {
     "name": "stdout",
     "output_type": "stream",
     "text": [
      "Gaussian_noise:\n",
      " [ 31.69317188  33.94978685  34.83684281  19.74554516  54.22971621\n",
      " -38.6994712   23.70306944 -21.05026629  29.09015122   5.34234817\n",
      "   1.45121406  -5.57058476 -13.75673114 -11.63931132 -75.43466842\n",
      "   8.89134287  39.98730763  49.96606047  28.54065397  63.44931929\n",
      "  20.54756226  -8.84298357  10.1688286   -2.86170818 -21.76668818\n",
      "  29.42307875  -0.73345714 -23.1259486    7.14249135 -56.70989923\n",
      "   2.47936959  11.26284762  59.03202518  50.3561672  -50.69121484\n",
      "  27.12895628  20.13744285  81.60573205 -24.8419019   87.48143974\n",
      "   8.37861951 -51.83854412 -11.27237043 -14.94699594  18.64461002\n",
      "  12.93437451   0.84685489  59.78237072  35.02409687  53.66645731\n",
      "  -2.947976    35.49096731  -2.09491868   9.86987875  50.10721209\n",
      "  29.35921922  19.38086257  -9.72616457  -9.81652538  31.48889565\n",
      "   9.18717753 -35.27915589  64.83989074  -3.61288981  -3.21953921\n",
      " -29.75782369  30.50414065  88.63133612  62.4403322   29.33348849\n",
      " -44.35169477  35.93099089 -30.01468398]\n"
     ]
    }
   ],
   "source": [
    "# Gets random Guassian noise for all values\n",
    "Gaussian_noise = norm.rvs(location, scale, len(datacount))\n",
    "print(\"Gaussian_noise:\\n\", Gaussian_noise)"
   ]
  },
  {
   "cell_type": "code",
   "execution_count": 6,
   "id": "ca7c3360",
   "metadata": {},
   "outputs": [
    {
     "name": "stdout",
     "output_type": "stream",
     "text": [
      "noisydata:\n",
      " 36    929.693172\n",
      "31    921.949787\n",
      "34    920.836843\n",
      "23    896.745545\n",
      "35    930.229716\n",
      "         ...    \n",
      "83     68.440332\n",
      "85     32.333488\n",
      "88    -41.351695\n",
      "86     36.930991\n",
      "87    -29.014684\n",
      "Name: Age, Length: 73, dtype: float64\n"
     ]
    }
   ],
   "source": [
    "# Add random noise generated from Gaussian function to actual count\n",
    "noisydata = datacount + Gaussian_noise\n",
    "print(\"noisydata:\\n\", noisydata)"
   ]
  },
  {
   "cell_type": "code",
   "execution_count": 7,
   "id": "fc42096c",
   "metadata": {},
   "outputs": [],
   "source": [
    "# Get index of datacount, \"age\"\n",
    "index=list(datacount.index)\n",
    "# Transfer type of Laplace Noise from 'numpy.ndarray' to 'pandas.core.series.Series' and index\n",
    "Gaussiannoise=pd.Series(Gaussian_noise,index=index)"
   ]
  },
  {
   "cell_type": "code",
   "execution_count": 8,
   "id": "3522b5d7",
   "metadata": {},
   "outputs": [
    {
     "data": {
      "text/plain": [
       "<AxesSubplot:title={'center':'Gaussian noisydata histogram'}>"
      ]
     },
     "execution_count": 8,
     "metadata": {},
     "output_type": "execute_result"
    },
    {
     "data": {
      "image/png": "[encoded data removed]",
      "text/plain": [
       "<Figure size 432x288 with 1 Axes>"
      ]
     },
     "metadata": {
      "needs_background": "light"
     },
     "output_type": "display_data"
    }
   ],
   "source": [
    "# Generate noisydata histogram\n",
    "plt.figure(\"Figure 1: Gaussian noisydata histogram\")\n",
    "plt.title(\"Gaussian noisydata histogram\")\n",
    "noisydata.plot(kind=\"bar\",color = 'g')"
   ]
  },
  {
   "cell_type": "code",
   "execution_count": 9,
   "id": "ccab54cf",
   "metadata": {},
   "outputs": [
    {
     "data": {
      "text/plain": [
       "[]"
      ]
     },
     "execution_count": 9,
     "metadata": {},
     "output_type": "execute_result"
    },
    {
     "data": {
      "image/png": "[encoded data removed]",
      "text/plain": [
       "<Figure size 432x288 with 1 Axes>"
      ]
     },
     "metadata": {
      "needs_background": "light"
     },
     "output_type": "display_data"
    }
   ],
   "source": [
    "# Generate actual and noise histogram\n",
    "plt.figure(\"Figure 2: Gaussian actual and noise histogram\")\n",
    "plt.ylabel(\"num\")\n",
    "plt.xlabel(\"age\")\n",
    "plt.bar(range(len(noisydata)),datacount,label='datacount',fc='y')\n",
    "plt.bar(range(len(noisydata)),Gaussiannoise,bottom=datacount,label='noise',tick_label=index,fc='r')\n",
    "plt.title(\"Gaussian actual and noise histogram\")\n",
    "plt.legend()\n",
    "plt.plot()"
   ]
  }
 ],
 "metadata": {
  "kernelspec": {
   "display_name": "Python 3",
   "language": "python",
   "name": "python3"
  },
  "language_info": {
   "codemirror_mode": {
    "name": "ipython",
    "version": 3
   },
   "file_extension": ".py",
   "mimetype": "text/x-python",
   "name": "python",
   "nbconvert_exporter": "python",
   "pygments_lexer": "ipython3",
   "version": "3.8.8"
  }
 },
 "nbformat": 4,
 "nbformat_minor": 5
}
