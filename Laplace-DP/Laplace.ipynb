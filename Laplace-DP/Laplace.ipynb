{
 "cells": [
  {
   "cell_type": "code",
   "execution_count": 1,
   "id": "efc211d8",
   "metadata": {},
   "outputs": [],
   "source": [
    "import pandas as pd\n",
    "import numpy as np\n",
    "import matplotlib.pyplot as plt"
   ]
  },
  {
   "cell_type": "code",
   "execution_count": 4,
   "id": "faa92b77",
   "metadata": {},
   "outputs": [],
   "source": [
    "dataset = pd.read_csv(\"../dataset/adult.data.txt\",\n",
    "    names=[\"Age\", \"Workclass\", \"fnlwgt\", \"Education\", \"Education-Num\", \"Martial Status\",\n",
    "        \"Occupation\", \"Relationship\", \"Race\", \"Sex\", \"Capital Gain\", \"Capital Loss\",\n",
    "        \"Hours per week\", \"Country\", \"Target\"],sep=r'\\s*,\\s*',na_values=\"?\", engine='python')"
   ]
  },
  {
   "cell_type": "code",
   "execution_count": 5,
   "id": "352c7b8b",
   "metadata": {},
   "outputs": [
    {
     "data": {
      "text/html": [
       "<div>\n",
       "<style scoped>\n",
       "    .dataframe tbody tr th:only-of-type {\n",
       "        vertical-align: middle;\n",
       "    }\n",
       "\n",
       "    .dataframe tbody tr th {\n",
       "        vertical-align: top;\n",
       "    }\n",
       "\n",
       "    .dataframe thead th {\n",
       "        text-align: right;\n",
       "    }\n",
       "</style>\n",
       "<table border=\"1\" class=\"dataframe\">\n",
       "  <thead>\n",
       "    <tr style=\"text-align: right;\">\n",
       "      <th></th>\n",
       "      <th>Age</th>\n",
       "      <th>Workclass</th>\n",
       "      <th>fnlwgt</th>\n",
       "      <th>Education</th>\n",
       "      <th>Education-Num</th>\n",
       "      <th>Martial Status</th>\n",
       "      <th>Occupation</th>\n",
       "      <th>Relationship</th>\n",
       "      <th>Race</th>\n",
       "      <th>Sex</th>\n",
       "      <th>Capital Gain</th>\n",
       "      <th>Capital Loss</th>\n",
       "      <th>Hours per week</th>\n",
       "      <th>Country</th>\n",
       "      <th>Target</th>\n",
       "    </tr>\n",
       "  </thead>\n",
       "  <tbody>\n",
       "    <tr>\n",
       "      <th>32556</th>\n",
       "      <td>27</td>\n",
       "      <td>Private</td>\n",
       "      <td>257302</td>\n",
       "      <td>Assoc-acdm</td>\n",
       "      <td>12</td>\n",
       "      <td>Married-civ-spouse</td>\n",
       "      <td>Tech-support</td>\n",
       "      <td>Wife</td>\n",
       "      <td>White</td>\n",
       "      <td>Female</td>\n",
       "      <td>0</td>\n",
       "      <td>0</td>\n",
       "      <td>38</td>\n",
       "      <td>United-States</td>\n",
       "      <td>&lt;=50K</td>\n",
       "    </tr>\n",
       "    <tr>\n",
       "      <th>32557</th>\n",
       "      <td>40</td>\n",
       "      <td>Private</td>\n",
       "      <td>154374</td>\n",
       "      <td>HS-grad</td>\n",
       "      <td>9</td>\n",
       "      <td>Married-civ-spouse</td>\n",
       "      <td>Machine-op-inspct</td>\n",
       "      <td>Husband</td>\n",
       "      <td>White</td>\n",
       "      <td>Male</td>\n",
       "      <td>0</td>\n",
       "      <td>0</td>\n",
       "      <td>40</td>\n",
       "      <td>United-States</td>\n",
       "      <td>&gt;50K</td>\n",
       "    </tr>\n",
       "    <tr>\n",
       "      <th>32558</th>\n",
       "      <td>58</td>\n",
       "      <td>Private</td>\n",
       "      <td>151910</td>\n",
       "      <td>HS-grad</td>\n",
       "      <td>9</td>\n",
       "      <td>Widowed</td>\n",
       "      <td>Adm-clerical</td>\n",
       "      <td>Unmarried</td>\n",
       "      <td>White</td>\n",
       "      <td>Female</td>\n",
       "      <td>0</td>\n",
       "      <td>0</td>\n",
       "      <td>40</td>\n",
       "      <td>United-States</td>\n",
       "      <td>&lt;=50K</td>\n",
       "    </tr>\n",
       "    <tr>\n",
       "      <th>32559</th>\n",
       "      <td>22</td>\n",
       "      <td>Private</td>\n",
       "      <td>201490</td>\n",
       "      <td>HS-grad</td>\n",
       "      <td>9</td>\n",
       "      <td>Never-married</td>\n",
       "      <td>Adm-clerical</td>\n",
       "      <td>Own-child</td>\n",
       "      <td>White</td>\n",
       "      <td>Male</td>\n",
       "      <td>0</td>\n",
       "      <td>0</td>\n",
       "      <td>20</td>\n",
       "      <td>United-States</td>\n",
       "      <td>&lt;=50K</td>\n",
       "    </tr>\n",
       "    <tr>\n",
       "      <th>32560</th>\n",
       "      <td>52</td>\n",
       "      <td>Self-emp-inc</td>\n",
       "      <td>287927</td>\n",
       "      <td>HS-grad</td>\n",
       "      <td>9</td>\n",
       "      <td>Married-civ-spouse</td>\n",
       "      <td>Exec-managerial</td>\n",
       "      <td>Wife</td>\n",
       "      <td>White</td>\n",
       "      <td>Female</td>\n",
       "      <td>15024</td>\n",
       "      <td>0</td>\n",
       "      <td>40</td>\n",
       "      <td>United-States</td>\n",
       "      <td>&gt;50K</td>\n",
       "    </tr>\n",
       "  </tbody>\n",
       "</table>\n",
       "</div>"
      ],
      "text/plain": [
       "       Age     Workclass  fnlwgt   Education  Education-Num  \\\n",
       "32556   27       Private  257302  Assoc-acdm             12   \n",
       "32557   40       Private  154374     HS-grad              9   \n",
       "32558   58       Private  151910     HS-grad              9   \n",
       "32559   22       Private  201490     HS-grad              9   \n",
       "32560   52  Self-emp-inc  287927     HS-grad              9   \n",
       "\n",
       "           Martial Status         Occupation Relationship   Race     Sex  \\\n",
       "32556  Married-civ-spouse       Tech-support         Wife  White  Female   \n",
       "32557  Married-civ-spouse  Machine-op-inspct      Husband  White    Male   \n",
       "32558             Widowed       Adm-clerical    Unmarried  White  Female   \n",
       "32559       Never-married       Adm-clerical    Own-child  White    Male   \n",
       "32560  Married-civ-spouse    Exec-managerial         Wife  White  Female   \n",
       "\n",
       "       Capital Gain  Capital Loss  Hours per week        Country Target  \n",
       "32556             0             0              38  United-States  <=50K  \n",
       "32557             0             0              40  United-States   >50K  \n",
       "32558             0             0              40  United-States  <=50K  \n",
       "32559             0             0              20  United-States  <=50K  \n",
       "32560         15024             0              40  United-States   >50K  "
      ]
     },
     "execution_count": 5,
     "metadata": {},
     "output_type": "execute_result"
    }
   ],
   "source": [
    "dataset.tail()"
   ]
  },
  {
   "cell_type": "code",
   "execution_count": 11,
   "id": "7ada7379",
   "metadata": {},
   "outputs": [
    {
     "name": "stdout",
     "output_type": "stream",
     "text": [
      "datacount:\n",
      " 36    898\n",
      "31    888\n",
      "34    886\n",
      "23    877\n",
      "35    876\n",
      "     ... \n",
      "83      6\n",
      "85      3\n",
      "88      3\n",
      "86      1\n",
      "87      1\n",
      "Name: Age, Length: 73, dtype: int64\n"
     ]
    }
   ],
   "source": [
    "#Find actual data count\n",
    "datacount = dataset[\"Age\"].value_counts()\n",
    "print(\"datacount:\\n\", datacount)"
   ]
  },
  {
   "cell_type": "code",
   "execution_count": 9,
   "id": "228ca75b",
   "metadata": {},
   "outputs": [],
   "source": [
    "# Set parameters for Laplace function implementation\n",
    "# l1 sensitivity = 1\n",
    "# epsilon = 0.125\n",
    "location = 0.0\n",
    "scale = 1.0/0.125 "
   ]
  },
  {
   "cell_type": "code",
   "execution_count": 12,
   "id": "697b24cb",
   "metadata": {},
   "outputs": [
    {
     "name": "stdout",
     "output_type": "stream",
     "text": [
      "Laplacian_noise:\n",
      " [-4.34451607e+00  1.23193030e+00 -6.69799908e+00  6.78109858e+00\n",
      "  4.27033533e-01 -3.81827890e+00  2.75429588e+00  1.16932318e+01\n",
      " -1.42028362e+01  1.31274679e+01  3.27861152e+01  2.48127391e+01\n",
      "  2.44378918e+01 -8.83964601e+00  1.30775542e+01  6.07671603e+00\n",
      " -1.80451952e+01  2.93569982e+00 -3.24399749e+00 -6.55032340e+00\n",
      " -2.66949395e+00 -8.16058084e+00  3.74192035e+00 -1.73130803e+00\n",
      "  1.86735004e+00  2.95007764e+00  4.18713159e+00 -2.24901642e+01\n",
      "  9.92453327e+00  5.69270815e+00 -2.83191882e+00 -1.84598111e+01\n",
      " -6.89217675e-01 -1.27411476e+00 -3.13932901e-01  3.63220722e+00\n",
      "  5.11774221e+00  3.48728835e-01  3.65621246e-01  3.08518446e+00\n",
      " -6.63560288e+00 -8.89611305e+00  2.49716685e+00 -2.84819638e+00\n",
      "  1.47669642e+01  1.89313877e+00  1.45448023e+00  1.26145558e+01\n",
      " -4.67615079e+00  7.18011637e-01 -3.37925627e+00  4.52504095e+00\n",
      "  1.26022371e-02  9.04841855e+00  1.27700344e+01  2.86417050e+00\n",
      " -4.63860404e+00  6.78845476e+00  5.12950188e+00 -9.25323845e+00\n",
      "  3.67122724e+00  3.42342304e+01  1.83424722e+00  6.16330739e-01\n",
      "  5.23117873e+00 -2.47762405e+01  4.14021699e+00  7.52550807e+00\n",
      " -5.53108318e-01 -3.50247741e+00  6.49543753e-01 -4.15180473e+01\n",
      "  1.37590977e+01]\n"
     ]
    }
   ],
   "source": [
    "# Gets random laplacian noise for all values\n",
    "Laplacian_noise = np.random.laplace(location, scale, len(datacount))\n",
    "print(\"Laplacian_noise:\\n\", Laplacian_noise)"
   ]
  },
  {
   "cell_type": "code",
   "execution_count": 13,
   "id": "abbc1f53",
   "metadata": {},
   "outputs": [
    {
     "name": "stdout",
     "output_type": "stream",
     "text": [
      "noisydata:\n",
      " 36    893.655484\n",
      "31    889.231930\n",
      "34    879.302001\n",
      "23    883.781099\n",
      "35    876.427034\n",
      "         ...    \n",
      "83      5.446892\n",
      "85     -0.502477\n",
      "88      3.649544\n",
      "86    -40.518047\n",
      "87     14.759098\n",
      "Name: Age, Length: 73, dtype: float64\n"
     ]
    }
   ],
   "source": [
    "# Add random noise generated from Laplace function to actual count\n",
    "noisydata = datacount + Laplacian_noise\n",
    "print(\"noisydata:\\n\", noisydata)"
   ]
  },
  {
   "cell_type": "code",
   "execution_count": 14,
   "id": "40b91faa",
   "metadata": {},
   "outputs": [],
   "source": [
    "# Get index of datacount, \"age\"\n",
    "index=list(datacount.index)\n",
    "# Transfer type of Laplace Noise from 'numpy.ndarray' to 'pandas.core.series.Series' and index\n",
    "laplacenoise=pd.Series(Laplacian_noise,index=index)"
   ]
  },
  {
   "cell_type": "code",
   "execution_count": 15,
   "id": "ab46fb38",
   "metadata": {},
   "outputs": [
    {
     "data": {
      "text/plain": [
       "<AxesSubplot:title={'center':'Laplace noisydata histogram'}>"
      ]
     },
     "execution_count": 15,
     "metadata": {},
     "output_type": "execute_result"
    },
    {
     "data": {
      "image/png": "[encoded data removed]",
      "text/plain": [
       "<Figure size 432x288 with 1 Axes>"
      ]
     },
     "metadata": {
      "needs_background": "light"
     },
     "output_type": "display_data"
    }
   ],
   "source": [
    "# Generate noisydata histogram\n",
    "plt.figure(\"Figure 1: Laplace noisydata histogram\")\n",
    "plt.title(\"Laplace noisydata histogram\")\n",
    "noisydata.plot(kind=\"bar\",color = 'g')"
   ]
  },
  {
   "cell_type": "code",
   "execution_count": 16,
   "id": "654f2b7e",
   "metadata": {},
   "outputs": [
    {
     "data": {
      "text/plain": [
       "[]"
      ]
     },
     "execution_count": 16,
     "metadata": {},
     "output_type": "execute_result"
    },
    {
     "data": {
      "image/png": "[encoded data removed]",
      "text/plain": [
       "<Figure size 432x288 with 1 Axes>"
      ]
     },
     "metadata": {
      "needs_background": "light"
     },
     "output_type": "display_data"
    }
   ],
   "source": [
    "# Generate actual and noise histogram\n",
    "plt.figure(\"Figure 2: Laplace actual and noise histogram\")\n",
    "plt.ylabel(\"num\")\n",
    "plt.xlabel(\"age\")\n",
    "plt.bar(range(len(noisydata)),datacount,label='datacount',fc='y')\n",
    "plt.bar(range(len(noisydata)),laplacenoise,bottom=datacount,label='noise',tick_label=index,fc='r')\n",
    "plt.title(\"Laplace actual and noise histogram\")\n",
    "plt.legend()\n",
    "plt.plot()"
   ]
  }
 ],
 "metadata": {
  "kernelspec": {
   "display_name": "Python 3",
   "language": "python",
   "name": "python3"
  },
  "language_info": {
   "codemirror_mode": {
    "name": "ipython",
    "version": 3
   },
   "file_extension": ".py",
   "mimetype": "text/x-python",
   "name": "python",
   "nbconvert_exporter": "python",
   "pygments_lexer": "ipython3",
   "version": "3.8.8"
  }
 },
 "nbformat": 4,
 "nbformat_minor": 5
}
